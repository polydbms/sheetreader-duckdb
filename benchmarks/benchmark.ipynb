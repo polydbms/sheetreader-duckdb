{
 "cells": [
  {
   "cell_type": "code",
   "execution_count": 30,
   "id": "b1df2007",
   "metadata": {
    "editable": true,
    "slideshow": {
     "slide_type": ""
    },
    "tags": []
   },
   "outputs": [
    {
     "name": "stdout",
     "output_type": "stream",
     "text": [
      "Requirement already satisfied: duckdb in /home/vscode/.local/lib/python3.9/site-packages (1.1.1)\n",
      "Note: you may need to restart the kernel to use updated packages.\n"
     ]
    }
   ],
   "source": [
    "%pip install duckdb\n",
    "%pip install seaborn\n",
    "%pip install pandas"
   ]
  },
  {
   "cell_type": "code",
   "execution_count": 126,
   "id": "1982f7fd",
   "metadata": {},
   "outputs": [],
   "source": [
    "scale_factor = 10\n",
    "xlsx_file_path = f'./tpch_customer_sf_{scale_factor}.xlsx'\n",
    "result_file_path = f'./tpch_customer_sf_{scale_factor}_results.csv'\n",
    "enable_create_tpch_xlsx = True\n",
    "duckdb_executable_path = '../build/release/duckdb'\n",
    "sheetreader_threads = [1,4]\n",
    "runs_per_function = 5\n",
    "enable_spatial_benchmarks = True"
   ]
  },
  {
   "cell_type": "code",
   "execution_count": 127,
   "id": "379f3a4c",
   "metadata": {},
   "outputs": [],
   "source": [
    "# %load tpch_writing.py\n",
    "import duckdb\n",
    "\n",
    "def create_tpch_xlsx(output_file_name, scale_factor=1, tpch_table_name=\"customer\"):\n",
    "    con = duckdb.connect(database = \":memory:\")\n",
    "    con.execute(\"INSTALL spatial;\")\n",
    "    con.execute(\"LOAD spatial;\")\n",
    "    con.execute(\"INSTALL tpch;\")\n",
    "    con.execute(\"LOAD tpch;\")\n",
    "\n",
    "\n",
    "    con.execute(f\"CALL dbgen(sf = {scale_factor});\")\n",
    "    print(f\"Created TPC-H data for scale factor {scale_factor}\")\n",
    "\n",
    "    all_cols = con.execute(f\"DESCRIBE {tpch_table_name}\").fetchall()\n",
    "\n",
    "    decimal_columns = []\n",
    "\n",
    "    for column in all_cols:\n",
    "        column_name = column[0]\n",
    "        column_type = column[1]\n",
    "\n",
    "        if 'DECIMAL' in column_type:\n",
    "            decimal_columns.append(column_name)\n",
    "\n",
    "    for column in decimal_columns:\n",
    "        col_name = column\n",
    "        bigint_col_name = f\"{col_name}_bigint\"\n",
    "        con.execute(f\"ALTER TABLE {tpch_table_name} ADD COLUMN {bigint_col_name} BIGINT;\")\n",
    "        con.execute(f\"UPDATE {tpch_table_name} SET {bigint_col_name} = CAST({col_name} AS BIGINT);\")\n",
    "        con.execute(f\"ALTER TABLE {tpch_table_name} DROP COLUMN {col_name};\")\n",
    "        con.execute(f\"ALTER TABLE {tpch_table_name} RENAME COLUMN {bigint_col_name} TO {col_name};\")\n",
    "\n",
    "    con.execute(f\"COPY (SELECT * FROM {tpch_table_name}) TO '{output_file_name}' WITH (FORMAT GDAL, DRIVER 'xlsx');\")\n",
    "\n",
    "    con.close()\n"
   ]
  },
  {
   "cell_type": "code",
   "execution_count": 128,
   "id": "ca2c5f8c",
   "metadata": {},
   "outputs": [
    {
     "data": {
      "application/vnd.jupyter.widget-view+json": {
       "model_id": "16d6cf0dbbb64169b288dcbb5ad1724b",
       "version_major": 2,
       "version_minor": 0
      },
      "text/plain": [
       "FloatProgress(value=0.0, layout=Layout(width='auto'), style=ProgressStyle(bar_color='black'))"
      ]
     },
     "metadata": {},
     "output_type": "display_data"
    },
    {
     "name": "stdout",
     "output_type": "stream",
     "text": [
      "Created TPC-H data for scale factor 10\n"
     ]
    },
    {
     "data": {
      "application/vnd.jupyter.widget-view+json": {
       "model_id": "ff2d0424203f487eacd567d194c2a167",
       "version_major": 2,
       "version_minor": 0
      },
      "text/plain": [
       "FloatProgress(value=0.0, layout=Layout(width='auto'), style=ProgressStyle(bar_color='black'))"
      ]
     },
     "metadata": {},
     "output_type": "display_data"
    }
   ],
   "source": [
    "import os\n",
    "if not os.path.isfile(xlsx_file_path):\n",
    "  create_tpch_xlsx(xlsx_file_path, scale_factor)\n",
    "else:\n",
    "  print(f\"Skipping creation of TPC-H data for scale factor {scale_factor}\")"
   ]
  },
  {
   "cell_type": "code",
   "execution_count": 129,
   "id": "7051ab4b",
   "metadata": {},
   "outputs": [],
   "source": [
    "import timeit\n",
    "import pandas as pd\n",
    "import subprocess\n",
    "\n",
    "def run_st_read(xlsx_file_path, runs_per_query=1, sheetreader_threads=[1]):\n",
    "    results = pd.DataFrame(columns=['function', 'time'])\n",
    "\n",
    "    def run(fn, fn_name):\n",
    "        results.loc[len(results)] = [fn_name, timeit.timeit(fn, number=1)]\n",
    "    def run_query(query):\n",
    "        subprocess.run([duckdb_executable_path], input=query.encode(), stdout=subprocess.PIPE)\n",
    "    def run_st_read():\n",
    "        sql_stmt = f\"load spatial; create table tmp_sp as from st_read('{xlsx_file_path}');\"\n",
    "        # Run ./duckdb_local with sql_stmt as input\n",
    "        run_query(sql_stmt)\n",
    "    def run_sheetreader(threads=1):\n",
    "        sql_stmt = f\"load sheetreader; create table tmp_sr as from sheetreader('{xlsx_file_path}', threads={threads});\"\n",
    "        # Run ./duckdb_local with sql_stmt as input\n",
    "        return lambda : run_query(sql_stmt)\n",
    "\n",
    "    run_query(f\"install spatial;\")\n",
    "\n",
    "    for i in range(runs_per_query):\n",
    "        print(f\"Run {i+1}/{runs_per_query}\")\n",
    "        if enable_spatial_benchmarks:\n",
    "            print(f\"Run {i+1}/{runs_per_query} - st_read\")\n",
    "            run(run_st_read, 'Spatial')\n",
    "        for thread in sheetreader_threads:\n",
    "            print(f\"Run SheetReader {i+1}/{runs_per_query} - SheetReader with {thread} threads\")\n",
    "            run(run_sheetreader(thread), f'SheetReader {thread} Thread{\"s\" if thread > 1 else \"\"}')\n",
    "\n",
    "    return results\n"
   ]
  },
  {
   "cell_type": "code",
   "execution_count": 130,
   "id": "5329877c",
   "metadata": {},
   "outputs": [
    {
     "name": "stdout",
     "output_type": "stream",
     "text": [
      "Run 1/5\n",
      "Run 1/5 - st_read\n",
      "Run SheetReader 1/5 - SheetReader with 1 threads\n",
      "Run SheetReader 1/5 - SheetReader with 4 threads\n",
      "Run 2/5\n",
      "Run 2/5 - st_read\n",
      "Run SheetReader 2/5 - SheetReader with 1 threads\n",
      "Run SheetReader 2/5 - SheetReader with 4 threads\n",
      "Run 3/5\n",
      "Run 3/5 - st_read\n",
      "Run SheetReader 3/5 - SheetReader with 1 threads\n",
      "Run SheetReader 3/5 - SheetReader with 4 threads\n",
      "Run 4/5\n",
      "Run 4/5 - st_read\n",
      "Run SheetReader 4/5 - SheetReader with 1 threads\n",
      "Run SheetReader 4/5 - SheetReader with 4 threads\n",
      "Run 5/5\n",
      "Run 5/5 - st_read\n",
      "Run SheetReader 5/5 - SheetReader with 1 threads\n",
      "Run SheetReader 5/5 - SheetReader with 4 threads\n"
     ]
    }
   ],
   "source": [
    "results = run_st_read(xlsx_file_path, runs_per_function, sheetreader_threads)"
   ]
  },
  {
   "cell_type": "code",
   "execution_count": 131,
   "id": "74ff6a30",
   "metadata": {},
   "outputs": [],
   "source": [
    "# Save dataframe to csv\n",
    "import time\n",
    "\n",
    "# results.to_csv(f\"results_sf_{scale_factor}_{int(time.time())}.csv\")\n",
    "results.to_csv(result_file_path)"
   ]
  },
  {
   "cell_type": "code",
   "execution_count": 132,
   "id": "f9c3ed06",
   "metadata": {},
   "outputs": [
    {
     "name": "stdout",
     "output_type": "stream",
     "text": [
      "    Unnamed: 0               function       time\n",
      "0            0                Spatial  85.975069\n",
      "1            1   SheetReader 1 Thread  30.615816\n",
      "2            2  SheetReader 4 Threads  14.141709\n",
      "3            3                Spatial  86.268932\n",
      "4            4   SheetReader 1 Thread  28.927294\n",
      "5            5  SheetReader 4 Threads  14.446914\n",
      "6            6                Spatial  84.923233\n",
      "7            7   SheetReader 1 Thread  29.267104\n",
      "8            8  SheetReader 4 Threads  14.090325\n",
      "9            9                Spatial  85.492440\n",
      "10          10   SheetReader 1 Thread  29.322267\n",
      "11          11  SheetReader 4 Threads  14.052366\n",
      "12          12                Spatial  86.035383\n",
      "13          13   SheetReader 1 Thread  29.225902\n",
      "14          14  SheetReader 4 Threads  14.108776\n"
     ]
    },
    {
     "name": "stderr",
     "output_type": "stream",
     "text": [
      "/tmp/ipykernel_3392/2756422923.py:11: UserWarning: set_ticklabels() should only be used with a fixed number of ticks, i.e. after set_ticks() or using a FixedLocator.\n",
      "  ax.set_xticklabels(ax.get_xticklabels(), rotation=40, ha=\"right\")\n"
     ]
    },
    {
     "data": {
      "image/png": "[encoded data removed]",
      "text/plain": [
       "<Figure size 640x480 with 1 Axes>"
      ]
     },
     "metadata": {},
     "output_type": "display_data"
    }
   ],
   "source": [
    "import seaborn as sns\n",
    "import matplotlib.pyplot as plt\n",
    "\n",
    "# load the results from the csv\n",
    "results = pd.read_csv(result_file_path)\n",
    "print(results)\n",
    "sns.set_style(\"whitegrid\")\n",
    "plot_title = f\"Time to read XLSX file (TPH-C Customer Table - Scale Factor {scale_factor})\"\n",
    "ax = sns.boxplot(data=results, x=\"function\", y=\"time\", fill=False, gap=.1)\n",
    "ax.set(xlabel='', ylabel='Time (s)', title=plot_title)\n",
    "ax.set_xticklabels(ax.get_xticklabels(), rotation=40, ha=\"right\")\n",
    "ax.set(ylim=(0, max(results['time']) * 1.2))\n",
    "# Change ascpect ratio of the plot\n",
    "# ax.set_aspect(1)\n",
    "\n",
    "# Save the plot to a file\n",
    "figure = ax.get_figure()\n",
    "plt.tight_layout()\n",
    "plt.savefig(f'benchmark_sf_{scale_factor}_{\"with\" if enable_spatial_benchmarks else \"without\"}_spatial.png')\n",
    "plt.show()"
   ]
  }
 ],
 "metadata": {
  "kernelspec": {
   "display_name": "Python 3",
   "language": "python",
   "name": "python3"
  },
  "language_info": {
   "codemirror_mode": {
    "name": "ipython",
    "version": 3
   },
   "file_extension": ".py",
   "mimetype": "text/x-python",
   "name": "python",
   "nbconvert_exporter": "python",
   "pygments_lexer": "ipython3",
   "version": "3.9.2"
  }
 },
 "nbformat": 4,
 "nbformat_minor": 5
}
